{
 "cells": [
  {
   "cell_type": "markdown",
   "metadata": {},
   "source": [
    "<h3>Note: There is no need to run the notebook to check the results."
   ]
  },
  {
   "cell_type": "code",
   "execution_count": 1,
   "metadata": {
    "collapsed": true
   },
   "outputs": [],
   "source": [
    "import seaborn as sns\n",
    "import pandas as pd\n",
    "import math\n",
    "import numpy as np\n",
    "import matplotlib.pyplot as plt\n",
    "from operator import itemgetter\n",
    "%matplotlib inline\n",
    "from numpy.linalg import inv\n",
    "from scipy import linalg as LA\n",
    "from numpy import array"
   ]
  },
  {
   "cell_type": "markdown",
   "metadata": {},
   "source": [
    "1. Here, We try to compare the performance in clustering between original data and reduced data (from pca). The reduced data is read from the file written by ftest.cu on which we applied the pca and reduced the dimension to 14 from 29.\n",
    "2. Three types of clustering used- K-Means, GMM, Agglomerative/Hierarchical\n",
    "3. The performance metric used is average cluster purity. Number of clusters taken = 5\n",
    "4. Refer the end of this notebook to look at the graphical and numerical representation of results.\n",
    "5. Files used are intrusion.csv and reduced.csv"
   ]
  },
  {
   "cell_type": "markdown",
   "metadata": {},
   "source": [
    "<h2>Reading original Data</h2>"
   ]
  },
  {
   "cell_type": "code",
   "execution_count": 2,
   "metadata": {
    "collapsed": true
   },
   "outputs": [],
   "source": [
    "df = pd.read_csv('intrusion.csv')"
   ]
  },
  {
   "cell_type": "code",
   "execution_count": 3,
   "metadata": {},
   "outputs": [
    {
     "data": {
      "text/plain": [
       "Index(['duration', 'service', 'src_bytes', 'dst_bytes', 'hot',\n",
       "       'num_failed_logins', 'num_compromised', 'num_root',\n",
       "       'num_file_creations', 'num_access_files', 'count', 'srv_count',\n",
       "       'serror_rate', 'srv_serror_rate', 'rerror_rate', 'srv_rerror_rate',\n",
       "       'same_srv_rate', 'diff_srv_rate', 'srv_diff_host_rate',\n",
       "       'dst_host_count', 'dst_host_srv_count', 'dst_host_same_srv_rate',\n",
       "       'dst_host_diff_srv_rate', 'dst_host_same_src_port_rate',\n",
       "       'dst_host_srv_diff_host_rate', 'dst_host_serror_rate',\n",
       "       'dst_host_srv_serror_rate', 'dst_host_rerror_rate',\n",
       "       'dst_host_srv_rerror_rate', 'xAttack'],\n",
       "      dtype='object')"
      ]
     },
     "execution_count": 3,
     "metadata": {},
     "output_type": "execute_result"
    }
   ],
   "source": [
    "df.columns"
   ]
  },
  {
   "cell_type": "code",
   "execution_count": 4,
   "metadata": {
    "collapsed": true
   },
   "outputs": [],
   "source": [
    "X=df[['duration', 'service', 'src_bytes', 'dst_bytes', 'hot',\n",
    "       'num_failed_logins', 'num_compromised', 'num_root',\n",
    "       'num_file_creations', 'num_access_files', 'count', 'srv_count',\n",
    "       'serror_rate', 'srv_serror_rate', 'rerror_rate', 'srv_rerror_rate',\n",
    "       'same_srv_rate', 'diff_srv_rate', 'srv_diff_host_rate',\n",
    "       'dst_host_count', 'dst_host_srv_count', 'dst_host_same_srv_rate',\n",
    "       'dst_host_diff_srv_rate', 'dst_host_same_src_port_rate',\n",
    "       'dst_host_srv_diff_host_rate', 'dst_host_serror_rate',\n",
    "       'dst_host_srv_serror_rate', 'dst_host_rerror_rate',\n",
    "       'dst_host_srv_rerror_rate']]\n",
    "Y= df['xAttack']"
   ]
  },
  {
   "cell_type": "markdown",
   "metadata": {},
   "source": [
    "<h2>Preprocessing</h2>\n",
    "<br>Normalizing the original data"
   ]
  },
  {
   "cell_type": "code",
   "execution_count": 5,
   "metadata": {
    "collapsed": true
   },
   "outputs": [],
   "source": [
    "from sklearn.preprocessing import StandardScaler\n",
    "sc = StandardScaler()\n",
    "X= sc.fit_transform(X)\n",
    "# X_test = sc.transform(X_test)"
   ]
  },
  {
   "cell_type": "code",
   "execution_count": 6,
   "metadata": {
    "collapsed": true
   },
   "outputs": [],
   "source": [
    "proj_data = X"
   ]
  },
  {
   "cell_type": "code",
   "execution_count": 7,
   "metadata": {},
   "outputs": [
    {
     "data": {
      "text/plain": [
       "array([[-0.11453823, -0.42593636, -0.01001262, ..., -0.53533169,\n",
       "        -0.38607684, -0.37498211],\n",
       "       [-0.11453823,  0.362291  , -0.01009237, ..., -0.62514571,\n",
       "         2.87824009,  2.77113829],\n",
       "       [-0.11453823, -0.42593636, -0.01002337, ..., -0.62514571,\n",
       "        -0.38607684, -0.37498211],\n",
       "       ...,\n",
       "       [ 0.8942439 ,  1.7568471 , -0.00917297, ..., -0.62514571,\n",
       "        -0.38607684, -0.37498211],\n",
       "       [-0.11453823, -1.0322651 , -0.01008907, ..., -0.62514571,\n",
       "        -0.38607684, -0.37498211],\n",
       "       [-0.11453823,  1.08988549, -0.01009237, ...,  1.62020478,\n",
       "        -0.38607684, -0.37498211]])"
      ]
     },
     "execution_count": 7,
     "metadata": {},
     "output_type": "execute_result"
    }
   ],
   "source": [
    "proj_data"
   ]
  },
  {
   "cell_type": "code",
   "execution_count": 8,
   "metadata": {
    "collapsed": true
   },
   "outputs": [],
   "source": [
    "dim = 29"
   ]
  },
  {
   "cell_type": "markdown",
   "metadata": {},
   "source": [
    "<h2>K-Means Clustering on original data"
   ]
  },
  {
   "cell_type": "code",
   "execution_count": 9,
   "metadata": {},
   "outputs": [
    {
     "data": {
      "text/plain": [
       "[array([-0.11453823, -0.42593636, -0.01001262, -0.03450679, -0.09095551,\n",
       "        -0.02632191, -0.02193826, -0.02180142, -0.0279158 , -0.0440872 ,\n",
       "        -0.60522895,  0.12721807, -0.63781221, -0.63167052, -0.37314059,\n",
       "        -0.37395115,  0.77002424, -0.34905141, -0.06426044, -1.69021291,\n",
       "         1.26287156,  1.06757184, -0.44108335, -0.2534255 ,  0.07102994,\n",
       "        -0.63949951, -0.53533169, -0.38607684, -0.37498211]),\n",
       " array([-0.11453823,  0.362291  , -0.01009237, -0.03981905, -0.09095551,\n",
       "        -0.02632191, -0.02193826, -0.02180142, -0.0279158 , -0.0440872 ,\n",
       "         0.92817061, -0.36881581, -0.63781221, -0.63167052,  2.75848585,\n",
       "         2.72311541, -1.48331444,  0.04132523, -0.37495767,  0.73294698,\n",
       "        -1.03251227, -1.15954486, -0.06960921, -0.47972172, -0.28900583,\n",
       "        -0.63949951, -0.62514571,  2.87824009,  2.77113829]),\n",
       " array([-0.11453823, -0.42593636, -0.01002337,  0.07731576, -0.09095551,\n",
       "        -0.02632191, -0.02193826, -0.02180142, -0.0279158 , -0.0440872 ,\n",
       "        -0.70977892, -0.34125838, -0.63781221, -0.63167052, -0.37314059,\n",
       "        -0.37395115,  0.77002424, -0.34905141, -0.37495767, -1.44789692,\n",
       "         1.26287156,  1.06757184, -0.44108335, -0.38273763,  0.25104783,\n",
       "        -0.63949951, -0.62514571, -0.38607684, -0.37498211]),\n",
       " array([-0.11453823, -0.72910073, -0.00953908, -0.03981905, -0.09095551,\n",
       "        -0.02632191, -0.02193826, -0.02180142, -0.0279158 , -0.0440872 ,\n",
       "        -0.71849142, -0.3550371 , -0.63781221, -0.63167052, -0.37314059,\n",
       "        -0.37395115,  0.77002424, -0.34905141, -0.37495767, -0.48872946,\n",
       "        -0.76140394, -0.64730802, -0.22881241,  0.26382302, -0.28900583,\n",
       "        -0.59450736, -0.62514571, -0.38607684, -0.37498211]),\n",
       " array([-0.11453823,  0.30165813, -0.01009237, -0.03981905, -0.09095551,\n",
       "        -0.02632191, -0.02193826, -0.02180142, -0.0279158 , -0.0440872 ,\n",
       "         1.86040784, -0.03812656,  1.60159958,  1.60621525, -0.37314059,\n",
       "        -0.37395115, -1.32398746, -0.07021095, -0.37495767,  0.73294698,\n",
       "        -0.81562561, -0.93683319, -0.17574468, -0.47972172, -0.28900583,\n",
       "         1.61010841,  1.62020478, -0.38607684, -0.37498211])]"
      ]
     },
     "execution_count": 9,
     "metadata": {},
     "output_type": "execute_result"
    }
   ],
   "source": [
    "centres=[]\n",
    "for i in range(5):\n",
    "    centres.append(proj_data[i])\n",
    "centres"
   ]
  },
  {
   "cell_type": "code",
   "execution_count": 10,
   "metadata": {
    "collapsed": true
   },
   "outputs": [],
   "source": [
    "cluster = []\n",
    "tempclus = [[],[],[],[],[]]\n",
    "for i in range(len(proj_data)):\n",
    "    dist=[]\n",
    "    for j in range(5):\n",
    "        d=0\n",
    "        for k in range(dim):\n",
    "            d = d + (proj_data[i][k]-centres[j][k])**2\n",
    "        d=math.sqrt(d)\n",
    "        dist.append(d)\n",
    "    ind = dist.index(min(dist))\n",
    "    tempclus[ind].append(proj_data[i])\n",
    "    cluster.append(ind)\n",
    "for a in range(5):\n",
    "    size =len(tempclus[a])\n",
    "    fnp = array(tempclus[a])\n",
    "    centres[a] = fnp.sum(axis=0)/size"
   ]
  },
  {
   "cell_type": "code",
   "execution_count": 11,
   "metadata": {},
   "outputs": [
    {
     "name": "stdout",
     "output_type": "stream",
     "text": [
      "25\n"
     ]
    }
   ],
   "source": [
    "count = 0\n",
    "while(1):\n",
    "    count = count+1\n",
    "    tempclus = [[],[],[],[],[]]\n",
    "    flag=0\n",
    "    for i in range(len(proj_data)):\n",
    "        dist=[]\n",
    "        for j in range(5):\n",
    "            d=0\n",
    "            for k in range(dim):\n",
    "                d = d + (proj_data[i][k]-centres[j][k])**2\n",
    "            d=math.sqrt(d)\n",
    "            dist.append(d)\n",
    "        ind = dist.index(min(dist))\n",
    "        tempclus[ind].append(proj_data[i])\n",
    "        if(cluster[i]!=ind):\n",
    "            flag=1\n",
    "            cluster[i] = ind\n",
    "    for a in range(5):\n",
    "        size =len(tempclus[a])\n",
    "        fnp = array(tempclus[a])\n",
    "        centres[a] = fnp.sum(axis=0)/size\n",
    "    if(flag==0):\n",
    "        break\n",
    "print(count)"
   ]
  },
  {
   "cell_type": "code",
   "execution_count": 12,
   "metadata": {},
   "outputs": [
    {
     "name": "stdout",
     "output_type": "stream",
     "text": [
      "1564\n",
      "2954\n",
      "9245\n",
      "4341\n",
      "6894\n"
     ]
    },
    {
     "data": {
      "text/plain": [
       "24998"
      ]
     },
     "execution_count": 12,
     "metadata": {},
     "output_type": "execute_result"
    }
   ],
   "source": [
    "purity=[[0,0,0,0,0],[0,0,0,0,0],[0,0,0,0,0],[0,0,0,0,0],[0,0,0,0,0]]\n",
    "print(cluster.count(0))\n",
    "print(cluster.count(1))\n",
    "print(cluster.count(2))\n",
    "print(cluster.count(3))\n",
    "print(cluster.count(4))\n",
    "len(cluster)"
   ]
  },
  {
   "cell_type": "code",
   "execution_count": 13,
   "metadata": {
    "collapsed": true
   },
   "outputs": [],
   "source": [
    "y_ls = ['normal', 'dos', 'probe', 'r2l', 'u2r']"
   ]
  },
  {
   "cell_type": "code",
   "execution_count": 14,
   "metadata": {
    "collapsed": true
   },
   "outputs": [],
   "source": [
    "for i in range(len(cluster)):\n",
    "    ind = cluster[i]\n",
    "    ind2 = y_ls.index(Y[i])\n",
    "    purity[ind][ind2] = purity[ind][ind2] + 1 "
   ]
  },
  {
   "cell_type": "code",
   "execution_count": 15,
   "metadata": {},
   "outputs": [
    {
     "name": "stdout",
     "output_type": "stream",
     "text": [
      "Purity for cluster0------ 0.5236572890025576\n",
      "Purity for cluster1------ 0.4617467840216655\n",
      "Purity for cluster2------ 0.9727420227149811\n",
      "Purity for cluster3------ 0.8306841741534209\n",
      "Purity for cluster4------ 0.9865100087032201\n",
      "Average purity::   0.8633890711256901\n"
     ]
    }
   ],
   "source": [
    "pur_kmean= []\n",
    "avg_purity= 0\n",
    "for i in range(5):\n",
    "    for j in range(5):\n",
    "        purity[i][j] = purity[i][j]/cluster.count(i)\n",
    "    print(\"Purity for cluster\"+str(i)+\"------ \"+str(max(purity[i])))\n",
    "    pur_kmean.append(max(purity[i]))\n",
    "    avg_purity = avg_purity + (max(purity[i]))*cluster.count(i)/len(cluster)\n",
    "print(\"Average purity::   \"+str(avg_purity))"
   ]
  },
  {
   "cell_type": "markdown",
   "metadata": {},
   "source": [
    "<h2>Gaussian Mixture Model Clusters on original data"
   ]
  },
  {
   "cell_type": "code",
   "execution_count": 16,
   "metadata": {},
   "outputs": [
    {
     "data": {
      "text/plain": [
       "array([1, 2, 2, ..., 1, 2, 0], dtype=int64)"
      ]
     },
     "execution_count": 16,
     "metadata": {},
     "output_type": "execute_result"
    }
   ],
   "source": [
    "from sklearn.mixture import GaussianMixture\n",
    "gmm = GaussianMixture(n_components = 5) \n",
    "gmm.fit(proj_data)\n",
    "cluster = gmm.predict(proj_data)\n",
    "cluster"
   ]
  },
  {
   "cell_type": "code",
   "execution_count": 17,
   "metadata": {},
   "outputs": [
    {
     "data": {
      "text/plain": [
       "24998"
      ]
     },
     "execution_count": 17,
     "metadata": {},
     "output_type": "execute_result"
    }
   ],
   "source": [
    "len(cluster)"
   ]
  },
  {
   "cell_type": "code",
   "execution_count": 18,
   "metadata": {
    "collapsed": true
   },
   "outputs": [],
   "source": [
    "cluster = np.array(cluster).tolist()"
   ]
  },
  {
   "cell_type": "code",
   "execution_count": 19,
   "metadata": {},
   "outputs": [
    {
     "name": "stdout",
     "output_type": "stream",
     "text": [
      "6477\n",
      "2840\n",
      "12413\n",
      "8\n",
      "3260\n"
     ]
    },
    {
     "data": {
      "text/plain": [
       "24998"
      ]
     },
     "execution_count": 19,
     "metadata": {},
     "output_type": "execute_result"
    }
   ],
   "source": [
    "purity=[[0,0,0,0,0],[0,0,0,0,0],[0,0,0,0,0],[0,0,0,0,0],[0,0,0,0,0]]\n",
    "print(cluster.count(0))\n",
    "print(cluster.count(1))\n",
    "print(cluster.count(2))\n",
    "print(cluster.count(3))\n",
    "print(cluster.count(4))\n",
    "len(cluster)"
   ]
  },
  {
   "cell_type": "code",
   "execution_count": 20,
   "metadata": {
    "collapsed": true
   },
   "outputs": [],
   "source": [
    "for i in range(len(cluster)):\n",
    "    ind = cluster[i]\n",
    "    ind2 = y_ls.index(Y[i])\n",
    "    purity[ind][ind2] = purity[ind][ind2] + 1 "
   ]
  },
  {
   "cell_type": "code",
   "execution_count": 21,
   "metadata": {},
   "outputs": [
    {
     "name": "stdout",
     "output_type": "stream",
     "text": [
      "Purity for cluster0------ 1.0\n",
      "Purity for cluster1------ 0.5397887323943662\n",
      "Purity for cluster2------ 0.746958833481028\n",
      "Purity for cluster3------ 1.0\n",
      "Purity for cluster4------ 0.7825153374233129\n",
      "Average purity::   0.7937034962797024\n"
     ]
    },
    {
     "data": {
      "text/plain": [
       "[[0.0, 1.0, 0.0, 0.0, 0.0],\n",
       " [0.5397887323943662,\n",
       "  0.21725352112676055,\n",
       "  0.20598591549295775,\n",
       "  0.03450704225352113,\n",
       "  0.0024647887323943664],\n",
       " [0.746958833481028,\n",
       "  0.15427374526705873,\n",
       "  0.0911947152179167,\n",
       "  0.007492145331507291,\n",
       "  8.05607024893257e-05],\n",
       " [1.0, 0.0, 0.0, 0.0, 0.0],\n",
       " [0.7825153374233129,\n",
       "  0.032208588957055216,\n",
       "  0.18282208588957055,\n",
       "  0.0018404907975460123,\n",
       "  0.0006134969325153375]]"
      ]
     },
     "execution_count": 21,
     "metadata": {},
     "output_type": "execute_result"
    }
   ],
   "source": [
    "avg_purity = 0\n",
    "pur_gmm = []\n",
    "for i in range(5):\n",
    "    for j in range(5):\n",
    "        purity[i][j] = purity[i][j]/cluster.count(i)\n",
    "    print(\"Purity for cluster\"+str(i)+\"------ \"+str(max(purity[i])))\n",
    "    pur_gmm.append(max(purity[i]))\n",
    "    avg_purity = avg_purity + (max(purity[i]))*cluster.count(i)/len(cluster)\n",
    "print(\"Average purity::   \"+str(avg_purity))\n",
    "purity"
   ]
  },
  {
   "cell_type": "markdown",
   "metadata": {},
   "source": [
    "<h2>Hierarchical clustering on original data"
   ]
  },
  {
   "cell_type": "code",
   "execution_count": 22,
   "metadata": {},
   "outputs": [
    {
     "data": {
      "text/plain": [
       "AgglomerativeClustering(affinity='euclidean', compute_full_tree='auto',\n",
       "            connectivity=None, linkage='ward', memory=None, n_clusters=5,\n",
       "            pooling_func=<function mean at 0x0000028BC4A05730>)"
      ]
     },
     "execution_count": 22,
     "metadata": {},
     "output_type": "execute_result"
    }
   ],
   "source": [
    "from sklearn.cluster import AgglomerativeClustering\n",
    "clustering = AgglomerativeClustering(n_clusters=5,linkage='ward').fit(proj_data)#single linkage not working\n",
    "clustering"
   ]
  },
  {
   "cell_type": "code",
   "execution_count": 23,
   "metadata": {
    "collapsed": true
   },
   "outputs": [],
   "source": [
    "cluster =clustering.labels_"
   ]
  },
  {
   "cell_type": "code",
   "execution_count": 24,
   "metadata": {
    "collapsed": true
   },
   "outputs": [],
   "source": [
    "cluster = np.array(cluster).tolist()"
   ]
  },
  {
   "cell_type": "code",
   "execution_count": 25,
   "metadata": {},
   "outputs": [
    {
     "name": "stdout",
     "output_type": "stream",
     "text": [
      "14315\n",
      "929\n",
      "2954\n",
      "8\n",
      "6792\n"
     ]
    },
    {
     "data": {
      "text/plain": [
       "24998"
      ]
     },
     "execution_count": 25,
     "metadata": {},
     "output_type": "execute_result"
    }
   ],
   "source": [
    "purity=[[0,0,0,0,0],[0,0,0,0,0],[0,0,0,0,0],[0,0,0,0,0],[0,0,0,0,0]]\n",
    "print(cluster.count(0))\n",
    "print(cluster.count(1))\n",
    "print(cluster.count(2))\n",
    "print(cluster.count(3))\n",
    "print(cluster.count(4))\n",
    "len(cluster)"
   ]
  },
  {
   "cell_type": "code",
   "execution_count": 26,
   "metadata": {
    "collapsed": true
   },
   "outputs": [],
   "source": [
    "for i in range(len(cluster)):\n",
    "    ind = cluster[i]\n",
    "    ind2 = y_ls.index(Y[i])\n",
    "    purity[ind][ind2] = purity[ind][ind2] + 1 "
   ]
  },
  {
   "cell_type": "code",
   "execution_count": 27,
   "metadata": {
    "scrolled": false
   },
   "outputs": [
    {
     "name": "stdout",
     "output_type": "stream",
     "text": [
      "Purity for cluster0------ 0.8857142857142857\n",
      "Purity for cluster1------ 0.8740581270182992\n",
      "Purity for cluster2------ 0.466824644549763\n",
      "Purity for cluster3------ 1.0\n",
      "Purity for cluster4------ 0.9957302709069493\n",
      "Average purity::   0.8657092567405391\n"
     ]
    }
   ],
   "source": [
    "avg_purity = 0\n",
    "pur_aglo = []\n",
    "for i in range(5):\n",
    "    for j in range(5):\n",
    "        purity[i][j] = purity[i][j]/cluster.count(i)\n",
    "    print(\"Purity for cluster\"+str(i)+\"------ \"+str(max(purity[i])))\n",
    "    pur_aglo.append(max(purity[i]))\n",
    "    avg_purity = avg_purity + (max(purity[i]))*cluster.count(i)/len(cluster)\n",
    "print(\"Average purity::   \"+str(avg_purity))"
   ]
  },
  {
   "cell_type": "markdown",
   "metadata": {},
   "source": [
    "<h2> Working on reduced dimension (imported from the result obtained in ftest.cu (reduced_data.csv)"
   ]
  },
  {
   "cell_type": "code",
   "execution_count": 28,
   "metadata": {
    "collapsed": true
   },
   "outputs": [],
   "source": [
    "df = pd.read_csv('reduced_data.csv')"
   ]
  },
  {
   "cell_type": "code",
   "execution_count": 29,
   "metadata": {},
   "outputs": [
    {
     "data": {
      "text/plain": [
       "Index(['col0', 'col1', 'col2', 'col3', 'col4', 'col5', 'col6', 'col7', 'col8',\n",
       "       'col9', 'col10', 'col11', 'col12', 'col13'],\n",
       "      dtype='object')"
      ]
     },
     "execution_count": 29,
     "metadata": {},
     "output_type": "execute_result"
    }
   ],
   "source": [
    "df.columns"
   ]
  },
  {
   "cell_type": "code",
   "execution_count": 30,
   "metadata": {
    "collapsed": true
   },
   "outputs": [],
   "source": [
    "X=df"
   ]
  },
  {
   "cell_type": "code",
   "execution_count": 31,
   "metadata": {
    "collapsed": true
   },
   "outputs": [],
   "source": [
    "proj_data = array(X)"
   ]
  },
  {
   "cell_type": "code",
   "execution_count": null,
   "metadata": {},
   "outputs": [],
   "source": []
  },
  {
   "cell_type": "code",
   "execution_count": 32,
   "metadata": {
    "collapsed": true
   },
   "outputs": [],
   "source": [
    "dim = 14"
   ]
  },
  {
   "cell_type": "markdown",
   "metadata": {},
   "source": [
    "<h2>K-Means Clustering on reduced data"
   ]
  },
  {
   "cell_type": "code",
   "execution_count": 33,
   "metadata": {},
   "outputs": [
    {
     "data": {
      "text/plain": [
       "[array([-0.50855   , -0.310427  ,  0.00948047,  0.534657  ,  0.0732652 ,\n",
       "        -0.224428  ,  0.127333  , -0.407997  ,  0.939285  , -0.859109  ,\n",
       "         0.369811  ,  0.0251838 , -0.155528  ,  0.737492  ]),\n",
       " array([-0.667766, -0.429837,  0.236729, -0.88698 , -0.950191,  0.397646,\n",
       "        -1.55788 ,  2.49399 , -0.660831, -0.432329, -0.97901 ,  0.303313,\n",
       "         0.901609, -2.18332 ]),\n",
       " array([-0.419614 , -0.263196 , -0.0931278,  0.684731 , -0.242245 ,\n",
       "         0.108936 ,  0.103613 , -0.434324 ,  0.826941 , -0.715317 ,\n",
       "         0.371753 ,  0.0506799, -0.30819  ,  0.591233 ]),\n",
       " array([-0.317885 , -0.287067 , -0.0799821,  0.68982  , -0.250918 ,\n",
       "         0.129218 ,  0.0996555, -0.429384 ,  0.468901 , -0.23682  ,\n",
       "         0.380976 ,  0.0440005, -0.10427  ,  0.887038 ]),\n",
       " array([ 1.04705  ,  0.412356 ,  0.0801833, -1.70585  ,  0.110932 ,\n",
       "         0.28799  ,  0.668304 ,  0.0933675, -0.0359595,  0.669697 ,\n",
       "        -0.858053 ,  0.0090112,  0.408258 , -0.367636 ])]"
      ]
     },
     "execution_count": 33,
     "metadata": {},
     "output_type": "execute_result"
    }
   ],
   "source": [
    "centres=[]\n",
    "for i in range(5):\n",
    "    centres.append(proj_data[i])\n",
    "centres"
   ]
  },
  {
   "cell_type": "code",
   "execution_count": 34,
   "metadata": {
    "collapsed": true
   },
   "outputs": [],
   "source": [
    "cluster = []\n",
    "tempclus = [[],[],[],[],[]]\n",
    "for i in range(len(proj_data)):\n",
    "    dist=[]\n",
    "    for j in range(5):\n",
    "        d=0\n",
    "        for k in range(dim):\n",
    "            d = d + (proj_data[i][k]-centres[j][k])**2\n",
    "        d=math.sqrt(d)\n",
    "        dist.append(d)\n",
    "    ind = dist.index(min(dist))\n",
    "    tempclus[ind].append(proj_data[i])\n",
    "    cluster.append(ind)\n",
    "for a in range(5):\n",
    "    size =len(tempclus[a])\n",
    "    fnp = array(tempclus[a])\n",
    "    centres[a] = fnp.sum(axis=0)/size"
   ]
  },
  {
   "cell_type": "code",
   "execution_count": 35,
   "metadata": {},
   "outputs": [
    {
     "name": "stdout",
     "output_type": "stream",
     "text": [
      "15\n"
     ]
    }
   ],
   "source": [
    "count = 0\n",
    "while(1):\n",
    "    count = count+1\n",
    "    tempclus = [[],[],[],[],[]]\n",
    "    flag=0\n",
    "    for i in range(len(proj_data)):\n",
    "        dist=[]\n",
    "        for j in range(5):\n",
    "            d=0\n",
    "            for k in range(dim):\n",
    "                d = d + (proj_data[i][k]-centres[j][k])**2\n",
    "            d=math.sqrt(d)\n",
    "            dist.append(d)\n",
    "        ind = dist.index(min(dist))\n",
    "        tempclus[ind].append(proj_data[i])\n",
    "        if(cluster[i]!=ind):\n",
    "            flag=1\n",
    "            cluster[i] = ind\n",
    "    for a in range(5):\n",
    "        size =len(tempclus[a])\n",
    "        fnp = array(tempclus[a])\n",
    "        centres[a] = fnp.sum(axis=0)/size\n",
    "    if(flag==0):\n",
    "        break\n",
    "print(count)"
   ]
  },
  {
   "cell_type": "code",
   "execution_count": 36,
   "metadata": {},
   "outputs": [
    {
     "name": "stdout",
     "output_type": "stream",
     "text": [
      "1056\n",
      "2811\n",
      "6926\n",
      "7518\n",
      "6687\n"
     ]
    },
    {
     "data": {
      "text/plain": [
       "24998"
      ]
     },
     "execution_count": 36,
     "metadata": {},
     "output_type": "execute_result"
    }
   ],
   "source": [
    "purity=[[0,0,0,0,0],[0,0,0,0,0],[0,0,0,0,0],[0,0,0,0,0],[0,0,0,0,0]]\n",
    "print(cluster.count(0))\n",
    "print(cluster.count(1))\n",
    "print(cluster.count(2))\n",
    "print(cluster.count(3))\n",
    "print(cluster.count(4))\n",
    "len(cluster)"
   ]
  },
  {
   "cell_type": "code",
   "execution_count": 37,
   "metadata": {
    "collapsed": true
   },
   "outputs": [],
   "source": [
    "y_ls = ['normal', 'dos', 'probe', 'r2l', 'u2r']"
   ]
  },
  {
   "cell_type": "code",
   "execution_count": 38,
   "metadata": {
    "collapsed": true
   },
   "outputs": [],
   "source": [
    "for i in range(len(cluster)):\n",
    "    ind = cluster[i]\n",
    "    ind2 = y_ls.index(Y[i])\n",
    "    purity[ind][ind2] = purity[ind][ind2] + 1 "
   ]
  },
  {
   "cell_type": "code",
   "execution_count": 39,
   "metadata": {},
   "outputs": [
    {
     "name": "stdout",
     "output_type": "stream",
     "text": [
      "Purity for cluster0------ 0.5833333333333334\n",
      "Purity for cluster1------ 0.48523657061543934\n",
      "Purity for cluster2------ 0.8221195495235345\n",
      "Purity for cluster3------ 0.8633945198191009\n",
      "Purity for cluster4------ 0.9848960669956632\n",
      "Average purity::   0.830106408512681\n"
     ]
    }
   ],
   "source": [
    "pur_kmean1= []\n",
    "avg_purity= 0\n",
    "for i in range(5):\n",
    "    for j in range(5):\n",
    "        purity[i][j] = purity[i][j]/cluster.count(i)\n",
    "    print(\"Purity for cluster\"+str(i)+\"------ \"+str(max(purity[i])))\n",
    "    pur_kmean1.append(max(purity[i]))\n",
    "    avg_purity = avg_purity + (max(purity[i]))*cluster.count(i)/len(cluster)\n",
    "print(\"Average purity::   \"+str(avg_purity))"
   ]
  },
  {
   "cell_type": "markdown",
   "metadata": {},
   "source": [
    "<h2>Gaussian Mixture Model Clusters on reduced data"
   ]
  },
  {
   "cell_type": "code",
   "execution_count": 40,
   "metadata": {},
   "outputs": [
    {
     "data": {
      "text/plain": [
       "array([0, 1, 2, ..., 1, 0, 1], dtype=int64)"
      ]
     },
     "execution_count": 40,
     "metadata": {},
     "output_type": "execute_result"
    }
   ],
   "source": [
    "from sklearn.mixture import GaussianMixture\n",
    "gmm = GaussianMixture(n_components = 5) \n",
    "gmm.fit(proj_data)\n",
    "cluster = gmm.predict(proj_data)\n",
    "cluster"
   ]
  },
  {
   "cell_type": "code",
   "execution_count": 41,
   "metadata": {},
   "outputs": [
    {
     "data": {
      "text/plain": [
       "24998"
      ]
     },
     "execution_count": 41,
     "metadata": {},
     "output_type": "execute_result"
    }
   ],
   "source": [
    "len(cluster)"
   ]
  },
  {
   "cell_type": "code",
   "execution_count": 42,
   "metadata": {
    "collapsed": true
   },
   "outputs": [],
   "source": [
    "cluster = np.array(cluster).tolist()"
   ]
  },
  {
   "cell_type": "code",
   "execution_count": 43,
   "metadata": {},
   "outputs": [
    {
     "name": "stdout",
     "output_type": "stream",
     "text": [
      "8243\n",
      "9192\n",
      "7554\n",
      "8\n",
      "1\n"
     ]
    },
    {
     "data": {
      "text/plain": [
       "24998"
      ]
     },
     "execution_count": 43,
     "metadata": {},
     "output_type": "execute_result"
    }
   ],
   "source": [
    "purity=[[0,0,0,0,0],[0,0,0,0,0],[0,0,0,0,0],[0,0,0,0,0],[0,0,0,0,0]]\n",
    "print(cluster.count(0))\n",
    "print(cluster.count(1))\n",
    "print(cluster.count(2))\n",
    "print(cluster.count(3))\n",
    "print(cluster.count(4))\n",
    "len(cluster)"
   ]
  },
  {
   "cell_type": "code",
   "execution_count": 44,
   "metadata": {
    "collapsed": true
   },
   "outputs": [],
   "source": [
    "for i in range(len(cluster)):\n",
    "    ind = cluster[i]\n",
    "    ind2 = y_ls.index(Y[i])\n",
    "    purity[ind][ind2] = purity[ind][ind2] + 1 "
   ]
  },
  {
   "cell_type": "code",
   "execution_count": 45,
   "metadata": {},
   "outputs": [
    {
     "name": "stdout",
     "output_type": "stream",
     "text": [
      "Purity for cluster0------ 0.7663472036879777\n",
      "Purity for cluster1------ 0.8899042645778938\n",
      "Purity for cluster2------ 0.8978024887476833\n",
      "Purity for cluster3------ 1.0\n",
      "Purity for cluster4------ 1.0\n",
      "Average purity::   0.851588127050164\n"
     ]
    }
   ],
   "source": [
    "avg_purity = 0\n",
    "pur_gmm1 = []\n",
    "for i in range(5):\n",
    "    for j in range(5):\n",
    "        purity[i][j] = purity[i][j]/cluster.count(i)\n",
    "    print(\"Purity for cluster\"+str(i)+\"------ \"+str(max(purity[i])))\n",
    "    pur_gmm1.append(max(purity[i]))\n",
    "    avg_purity = avg_purity + (max(purity[i]))*cluster.count(i)/len(cluster)\n",
    "print(\"Average purity::   \"+str(avg_purity))"
   ]
  },
  {
   "cell_type": "markdown",
   "metadata": {},
   "source": [
    "<h2>Hierarchical clustering on original data"
   ]
  },
  {
   "cell_type": "code",
   "execution_count": 46,
   "metadata": {},
   "outputs": [
    {
     "data": {
      "text/plain": [
       "AgglomerativeClustering(affinity='euclidean', compute_full_tree='auto',\n",
       "            connectivity=None, linkage='ward', memory=None, n_clusters=5,\n",
       "            pooling_func=<function mean at 0x0000028BC4A05730>)"
      ]
     },
     "execution_count": 46,
     "metadata": {},
     "output_type": "execute_result"
    }
   ],
   "source": [
    "from sklearn.cluster import AgglomerativeClustering\n",
    "clustering = AgglomerativeClustering(n_clusters=5,linkage='ward').fit(proj_data)#single linkage not working\n",
    "clustering"
   ]
  },
  {
   "cell_type": "code",
   "execution_count": 47,
   "metadata": {
    "collapsed": true
   },
   "outputs": [],
   "source": [
    "cluster =clustering.labels_"
   ]
  },
  {
   "cell_type": "code",
   "execution_count": 48,
   "metadata": {
    "collapsed": true
   },
   "outputs": [],
   "source": [
    "cluster = np.array(cluster).tolist()"
   ]
  },
  {
   "cell_type": "code",
   "execution_count": 49,
   "metadata": {},
   "outputs": [
    {
     "name": "stdout",
     "output_type": "stream",
     "text": [
      "15806\n",
      "6556\n",
      "2627\n",
      "8\n",
      "1\n"
     ]
    },
    {
     "data": {
      "text/plain": [
       "24998"
      ]
     },
     "execution_count": 49,
     "metadata": {},
     "output_type": "execute_result"
    }
   ],
   "source": [
    "purity=[[0,0,0,0,0],[0,0,0,0,0],[0,0,0,0,0],[0,0,0,0,0],[0,0,0,0,0]]\n",
    "print(cluster.count(0))\n",
    "print(cluster.count(1))\n",
    "print(cluster.count(2))\n",
    "print(cluster.count(3))\n",
    "print(cluster.count(4))\n",
    "len(cluster)"
   ]
  },
  {
   "cell_type": "code",
   "execution_count": 50,
   "metadata": {
    "collapsed": true
   },
   "outputs": [],
   "source": [
    "for i in range(len(cluster)):\n",
    "    ind = cluster[i]\n",
    "    ind2 = y_ls.index(Y[i])\n",
    "    purity[ind][ind2] = purity[ind][ind2] + 1 "
   ]
  },
  {
   "cell_type": "code",
   "execution_count": 51,
   "metadata": {
    "scrolled": false
   },
   "outputs": [
    {
     "name": "stdout",
     "output_type": "stream",
     "text": [
      "Purity for cluster0------ 0.8153232949512843\n",
      "Purity for cluster1------ 0.9925259304453935\n",
      "Purity for cluster2------ 0.5192234488009136\n",
      "Purity for cluster3------ 1.0\n",
      "Purity for cluster4------ 1.0\n",
      "Average purity::   0.8307464597167773\n"
     ]
    }
   ],
   "source": [
    "avg_purity = 0\n",
    "pur_aglo1 = []\n",
    "for i in range(5):\n",
    "    for j in range(5):\n",
    "        purity[i][j] = purity[i][j]/cluster.count(i)\n",
    "    print(\"Purity for cluster\"+str(i)+\"------ \"+str(max(purity[i])))\n",
    "    pur_aglo1.append(max(purity[i]))\n",
    "    avg_purity = avg_purity + (max(purity[i]))*cluster.count(i)/len(cluster)\n",
    "print(\"Average purity::   \"+str(avg_purity))"
   ]
  },
  {
   "cell_type": "markdown",
   "metadata": {},
   "source": [
    "<h2>RESULTS"
   ]
  },
  {
   "cell_type": "markdown",
   "metadata": {},
   "source": [
    "Graphs represent the purity (the ratio of the max number of elements in the cluster belonging to a certain class to the total number of elements in the cluster) for each cluster. It shows for reduced and original data both for each type of clustering used"
   ]
  },
  {
   "cell_type": "code",
   "execution_count": 52,
   "metadata": {},
   "outputs": [
    {
     "data": {
      "image/png": "[encoded data removed]",
      "text/plain": [
       "<matplotlib.figure.Figure at 0x28bcf9b69b0>"
      ]
     },
     "metadata": {},
     "output_type": "display_data"
    }
   ],
   "source": [
    "label = ['cluster0','cluster1','cluster2','cluster3','cluster4']\n",
    "pur = pur_kmean\n",
    "index = np.arange(len(label))\n",
    "plt.bar(index, pur)\n",
    "plt.xlabel('clusters', fontsize=10)\n",
    "plt.ylabel('purity ratio', fontsize=10)\n",
    "plt.xticks(index, label, fontsize=10, rotation=30)\n",
    "plt.title('K Means clustering- Original Data ')\n",
    "plt.show()"
   ]
  },
  {
   "cell_type": "code",
   "execution_count": 53,
   "metadata": {},
   "outputs": [
    {
     "data": {
      "image/png": "[encoded data removed]",
      "text/plain": [
       "<matplotlib.figure.Figure at 0x28bced0beb8>"
      ]
     },
     "metadata": {},
     "output_type": "display_data"
    }
   ],
   "source": [
    "label = ['cluster0','cluster1','cluster2','cluster3','cluster4']\n",
    "pur = pur_kmean1\n",
    "index = np.arange(len(label))\n",
    "plt.bar(index, pur)\n",
    "plt.xlabel('clusters', fontsize=10)\n",
    "plt.ylabel('purity ratio', fontsize=10)\n",
    "plt.xticks(index, label, fontsize=10, rotation=30)\n",
    "plt.title('K Means clustering- Reduced Data ')\n",
    "plt.show()"
   ]
  },
  {
   "cell_type": "code",
   "execution_count": 54,
   "metadata": {
    "scrolled": false
   },
   "outputs": [
    {
     "data": {
      "image/png": "[encoded data removed]",
      "text/plain": [
       "<matplotlib.figure.Figure at 0x28bcee60e10>"
      ]
     },
     "metadata": {},
     "output_type": "display_data"
    }
   ],
   "source": [
    "label = ['cluster0','cluster1','cluster2','cluster3','cluster4']\n",
    "pur = pur_gmm\n",
    "index = np.arange(len(label))\n",
    "plt.bar(index, pur)\n",
    "plt.xlabel('clusters', fontsize=10)\n",
    "plt.ylabel('purity ratio', fontsize=10)\n",
    "plt.xticks(index, label, fontsize=10, rotation=30)\n",
    "plt.title('Gaussian Mixture Model -Original Data')\n",
    "plt.show()"
   ]
  },
  {
   "cell_type": "code",
   "execution_count": 55,
   "metadata": {},
   "outputs": [
    {
     "data": {
      "image/png": "[encoded data removed]",
      "text/plain": [
       "<matplotlib.figure.Figure at 0x28bcfccd1d0>"
      ]
     },
     "metadata": {},
     "output_type": "display_data"
    }
   ],
   "source": [
    "label = ['cluster0','cluster1','cluster2','cluster3','cluster4']\n",
    "pur = pur_gmm1\n",
    "index = np.arange(len(label))\n",
    "plt.bar(index, pur)\n",
    "plt.xlabel('clusters', fontsize=10)\n",
    "plt.ylabel('purity ratio', fontsize=10)\n",
    "plt.xticks(index, label, fontsize=10, rotation=30)\n",
    "plt.title('Gaussian Mixture Model -Reduced Data')\n",
    "plt.show()"
   ]
  },
  {
   "cell_type": "code",
   "execution_count": 56,
   "metadata": {},
   "outputs": [
    {
     "data": {
      "image/png": "[encoded data removed]",
      "text/plain": [
       "<matplotlib.figure.Figure at 0x28bcfd70b38>"
      ]
     },
     "metadata": {},
     "output_type": "display_data"
    }
   ],
   "source": [
    "label = ['cluster0','cluster1','cluster2','cluster3','cluster4']\n",
    "pur = pur_aglo\n",
    "index = np.arange(len(label))\n",
    "plt.bar(index, pur)\n",
    "plt.xlabel('clusters', fontsize=10)\n",
    "plt.ylabel('purity ratio', fontsize=10)\n",
    "plt.xticks(index, label, fontsize=10, rotation=30)\n",
    "plt.title('AgglomerativeClustering Orignal Data')\n",
    "plt.show()"
   ]
  },
  {
   "cell_type": "code",
   "execution_count": 57,
   "metadata": {},
   "outputs": [
    {
     "data": {
      "image/png": "[encoded data removed]",
      "text/plain": [
       "<matplotlib.figure.Figure at 0x28bcfe7dc50>"
      ]
     },
     "metadata": {},
     "output_type": "display_data"
    }
   ],
   "source": [
    "label = ['cluster0','cluster1','cluster2','cluster3','cluster4']\n",
    "pur = pur_aglo1\n",
    "index = np.arange(len(label))\n",
    "plt.bar(index, pur)\n",
    "plt.xlabel('clusters', fontsize=10)\n",
    "plt.ylabel('purity ratio', fontsize=10)\n",
    "plt.xticks(index, label, fontsize=10, rotation=30)\n",
    "plt.title('AgglomerativeClustering - Reduced Data')\n",
    "plt.show()"
   ]
  },
  {
   "cell_type": "markdown",
   "metadata": {},
   "source": [
    "<h2>Average Cluster purity"
   ]
  },
  {
   "cell_type": "markdown",
   "metadata": {},
   "source": [
    "<h4>K-Means::</h4><br>\n",
    "Original Data :::: 0.86<br>\n",
    "Reduced Data :::: 0.83 <br><br>\n",
    "<h4>GMM::</h4><br>\n",
    "Original Data :::: 0.79<br>\n",
    "Reduced Data :::: 0.78 <br><br>\n",
    "<h4>Aglomorative(Hierarchical)::</h4><br>\n",
    "Original Data :::: 0.86<br>\n",
    "Reduced Data :::: 0.83 <br>"
   ]
  },
  {
   "cell_type": "markdown",
   "metadata": {},
   "source": [
    "We can see that reduced dimension didn't affect the purity by much. And reducing dimensions to half is a good tradeoff between computation speed and performance."
   ]
  }
 ],
 "metadata": {
  "kernelspec": {
   "display_name": "Python 3",
   "language": "python",
   "name": "python3"
  },
  "language_info": {
   "codemirror_mode": {
    "name": "ipython",
    "version": 3
   },
   "file_extension": ".py",
   "mimetype": "text/x-python",
   "name": "python",
   "nbconvert_exporter": "python",
   "pygments_lexer": "ipython3",
   "version": "3.6.8"
  }
 },
 "nbformat": 4,
 "nbformat_minor": 2
}
